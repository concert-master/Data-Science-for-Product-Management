{
 "cells": [
  {
   "cell_type": "markdown",
   "metadata": {},
   "source": [
    "# 05898 Data Science For Project Managers\n",
    "# Homework 1 - Xin Qiu, Andrew ID: xq"
   ]
  },
  {
   "cell_type": "markdown",
   "metadata": {},
   "source": [
    "## Step 1: Understand the dataset"
   ]
  },
  {
   "cell_type": "code",
   "execution_count": 298,
   "metadata": {},
   "outputs": [
    {
     "data": {
      "text/html": [
       "<div>\n",
       "<style>\n",
       "    .dataframe thead tr:only-child th {\n",
       "        text-align: right;\n",
       "    }\n",
       "\n",
       "    .dataframe thead th {\n",
       "        text-align: left;\n",
       "    }\n",
       "\n",
       "    .dataframe tbody tr th {\n",
       "        vertical-align: top;\n",
       "    }\n",
       "</style>\n",
       "<table border=\"1\" class=\"dataframe\">\n",
       "  <thead>\n",
       "    <tr style=\"text-align: right;\">\n",
       "      <th></th>\n",
       "      <th>TransactionID</th>\n",
       "      <th>TransactionDate</th>\n",
       "      <th>CustomerID</th>\n",
       "      <th>Amount</th>\n",
       "    </tr>\n",
       "  </thead>\n",
       "  <tbody>\n",
       "    <tr>\n",
       "      <th>0</th>\n",
       "      <td>1</td>\n",
       "      <td>2012-09-04</td>\n",
       "      <td>1</td>\n",
       "      <td>20.26</td>\n",
       "    </tr>\n",
       "    <tr>\n",
       "      <th>1</th>\n",
       "      <td>2</td>\n",
       "      <td>2012-05-15</td>\n",
       "      <td>2</td>\n",
       "      <td>10.87</td>\n",
       "    </tr>\n",
       "    <tr>\n",
       "      <th>2</th>\n",
       "      <td>3</td>\n",
       "      <td>2014-05-23</td>\n",
       "      <td>2</td>\n",
       "      <td>2.21</td>\n",
       "    </tr>\n",
       "    <tr>\n",
       "      <th>3</th>\n",
       "      <td>4</td>\n",
       "      <td>2014-10-24</td>\n",
       "      <td>2</td>\n",
       "      <td>10.48</td>\n",
       "    </tr>\n",
       "    <tr>\n",
       "      <th>4</th>\n",
       "      <td>5</td>\n",
       "      <td>2012-10-13</td>\n",
       "      <td>2</td>\n",
       "      <td>3.94</td>\n",
       "    </tr>\n",
       "  </tbody>\n",
       "</table>\n",
       "</div>"
      ],
      "text/plain": [
       "   TransactionID TransactionDate  CustomerID  Amount\n",
       "0              1      2012-09-04           1   20.26\n",
       "1              2      2012-05-15           2   10.87\n",
       "2              3      2014-05-23           2    2.21\n",
       "3              4      2014-10-24           2   10.48\n",
       "4              5      2012-10-13           2    3.94"
      ]
     },
     "execution_count": 298,
     "metadata": {},
     "output_type": "execute_result"
    }
   ],
   "source": [
    "# load data from csv file\n",
    "import pandas as pd\n",
    "filename = 'clv_transactions.csv'\n",
    "data = pd.read_csv(filename)\n",
    "data['TransactionDate'] = pd.to_datetime(data['TransactionDate'])\n",
    "data.head()"
   ]
  },
  {
   "cell_type": "code",
   "execution_count": 299,
   "metadata": {},
   "outputs": [
    {
     "data": {
      "text/plain": [
       "TransactionID               int64\n",
       "TransactionDate    datetime64[ns]\n",
       "CustomerID                  int64\n",
       "Amount                    float64\n",
       "dtype: object"
      ]
     },
     "execution_count": 299,
     "metadata": {},
     "output_type": "execute_result"
    }
   ],
   "source": [
    "# check datatypes of all columns, make sure to parse transaction date into datetime64[ns] format\n",
    "data.dtypes"
   ]
  },
  {
   "cell_type": "code",
   "execution_count": 300,
   "metadata": {},
   "outputs": [
    {
     "name": "stdout",
     "output_type": "stream",
     "text": [
      "False\n",
      "2010-01-04 00:00:00\n",
      "2015-12-31 00:00:00\n",
      "1000\n",
      "1499.1828830616478\n"
     ]
    }
   ],
   "source": [
    "import numpy as np\n",
    "print(data.isnull().values.any())\n",
    "print(min(data['TransactionDate']))\n",
    "print(max(data['TransactionDate']))\n",
    "print(len(set(data['CustomerID'])))\n",
    "print(np.var(data['Amount']))"
   ]
  },
  {
   "cell_type": "code",
   "execution_count": 301,
   "metadata": {},
   "outputs": [
    {
     "data": {
      "text/html": [
       "<div>\n",
       "<style>\n",
       "    .dataframe thead tr:only-child th {\n",
       "        text-align: right;\n",
       "    }\n",
       "\n",
       "    .dataframe thead th {\n",
       "        text-align: left;\n",
       "    }\n",
       "\n",
       "    .dataframe tbody tr th {\n",
       "        vertical-align: top;\n",
       "    }\n",
       "</style>\n",
       "<table border=\"1\" class=\"dataframe\">\n",
       "  <thead>\n",
       "    <tr style=\"text-align: right;\">\n",
       "      <th></th>\n",
       "      <th>TransactionID</th>\n",
       "      <th>CustomerID</th>\n",
       "      <th>Amount</th>\n",
       "    </tr>\n",
       "  </thead>\n",
       "  <tbody>\n",
       "    <tr>\n",
       "      <th>count</th>\n",
       "      <td>4186.000000</td>\n",
       "      <td>4186.000000</td>\n",
       "      <td>4186.000000</td>\n",
       "    </tr>\n",
       "    <tr>\n",
       "      <th>mean</th>\n",
       "      <td>2093.500000</td>\n",
       "      <td>516.165791</td>\n",
       "      <td>9.028082</td>\n",
       "    </tr>\n",
       "    <tr>\n",
       "      <th>std</th>\n",
       "      <td>1208.538442</td>\n",
       "      <td>291.465283</td>\n",
       "      <td>38.723909</td>\n",
       "    </tr>\n",
       "    <tr>\n",
       "      <th>min</th>\n",
       "      <td>1.000000</td>\n",
       "      <td>1.000000</td>\n",
       "      <td>-1.000000</td>\n",
       "    </tr>\n",
       "    <tr>\n",
       "      <th>25%</th>\n",
       "      <td>1047.250000</td>\n",
       "      <td>270.000000</td>\n",
       "      <td>3.310000</td>\n",
       "    </tr>\n",
       "    <tr>\n",
       "      <th>50%</th>\n",
       "      <td>2093.500000</td>\n",
       "      <td>522.000000</td>\n",
       "      <td>6.885000</td>\n",
       "    </tr>\n",
       "    <tr>\n",
       "      <th>75%</th>\n",
       "      <td>3139.750000</td>\n",
       "      <td>762.750000</td>\n",
       "      <td>11.690000</td>\n",
       "    </tr>\n",
       "    <tr>\n",
       "      <th>max</th>\n",
       "      <td>4186.000000</td>\n",
       "      <td>1000.000000</td>\n",
       "      <td>2033.000000</td>\n",
       "    </tr>\n",
       "  </tbody>\n",
       "</table>\n",
       "</div>"
      ],
      "text/plain": [
       "       TransactionID   CustomerID       Amount\n",
       "count    4186.000000  4186.000000  4186.000000\n",
       "mean     2093.500000   516.165791     9.028082\n",
       "std      1208.538442   291.465283    38.723909\n",
       "min         1.000000     1.000000    -1.000000\n",
       "25%      1047.250000   270.000000     3.310000\n",
       "50%      2093.500000   522.000000     6.885000\n",
       "75%      3139.750000   762.750000    11.690000\n",
       "max      4186.000000  1000.000000  2033.000000"
      ]
     },
     "execution_count": 301,
     "metadata": {},
     "output_type": "execute_result"
    }
   ],
   "source": [
    "data.describe()"
   ]
  },
  {
   "cell_type": "code",
   "execution_count": 302,
   "metadata": {},
   "outputs": [
    {
     "data": {
      "image/png": "[encoded data removed]",
      "text/plain": [
       "<matplotlib.figure.Figure at 0x106370b00>"
      ]
     },
     "metadata": {},
     "output_type": "display_data"
    }
   ],
   "source": [
    "import matplotlib.pyplot as plt\n",
    "# sort the dataset according to the transaction date\n",
    "datasort = data.sort_values(['TransactionDate'])\n",
    "datasort = datasort.reset_index()\n",
    "# first, group the data by each date and calculate the sum transaction amounts daily\n",
    "datasortgrouped = datasort['Amount'].groupby(datasort['TransactionDate'])\n",
    "df1 = pd.DataFrame(datasortgrouped.sum())\n",
    "# second, group the data by month and calculate the sum transaction amounts per month\n",
    "df2 = df1.groupby(pd.TimeGrouper(\"M\"))\n",
    "df2 = pd.DataFrame(df2.sum())\n",
    "plt.plot(df2)\n",
    "plt.title(\"Monthly Sum of Transaction Amounts\")\n",
    "plt.show()"
   ]
  },
  {
   "cell_type": "markdown",
   "metadata": {},
   "source": [
    "### 1. Are there any missing values in the dataset?\n",
    "There are no missing values in the dataset.\n",
    "\n",
    "### 2. What is the range of dates in the dataset?\n",
    "The range of dates in the dataset is from 2010-01-04 to 2015-12-31.\n",
    "\n",
    "### 3. How many unique customers are there in the dataset?\n",
    "There are 1000 unique customers in the dataset.\n",
    "\n",
    "### 4. Profile the data to give the standard descriptive statistics for the Amount field. What is the min, max, variance, and standard deviations?\n",
    "For the Amount field, the min is -1.00, max is 2033.00, variance is 1499.18 and standard deviation is 38.72.\n",
    "\n",
    "### 5. Do transaction amounts in general increase over time (perhaps due to inflation)?\n",
    "From the plot of Monthly Sum of Transaction Amounts, we can see that despite some peak values, there is a general increasing trend over time. It happens perhaps due to inflation, or simply because the business is running better."
   ]
  },
  {
   "cell_type": "markdown",
   "metadata": {},
   "source": [
    "## Step 2: Explore the dataset"
   ]
  },
  {
   "cell_type": "code",
   "execution_count": 303,
   "metadata": {},
   "outputs": [
    {
     "data": {
      "image/png": "[encoded data removed]",
      "text/plain": [
       "<matplotlib.figure.Figure at 0x10ed506d8>"
      ]
     },
     "metadata": {},
     "output_type": "display_data"
    },
    {
     "data": {
      "text/html": [
       "<div>\n",
       "<style>\n",
       "    .dataframe thead tr:only-child th {\n",
       "        text-align: right;\n",
       "    }\n",
       "\n",
       "    .dataframe thead th {\n",
       "        text-align: left;\n",
       "    }\n",
       "\n",
       "    .dataframe tbody tr th {\n",
       "        vertical-align: top;\n",
       "    }\n",
       "</style>\n",
       "<table border=\"1\" class=\"dataframe\">\n",
       "  <thead>\n",
       "    <tr style=\"text-align: right;\">\n",
       "      <th></th>\n",
       "      <th>TransactionID</th>\n",
       "      <th>CustomerID</th>\n",
       "      <th>Amount</th>\n",
       "    </tr>\n",
       "  </thead>\n",
       "  <tbody>\n",
       "    <tr>\n",
       "      <th>count</th>\n",
       "      <td>4186.000000</td>\n",
       "      <td>4186.000000</td>\n",
       "      <td>4186.000000</td>\n",
       "    </tr>\n",
       "    <tr>\n",
       "      <th>mean</th>\n",
       "      <td>2093.500000</td>\n",
       "      <td>516.165791</td>\n",
       "      <td>9.028082</td>\n",
       "    </tr>\n",
       "    <tr>\n",
       "      <th>std</th>\n",
       "      <td>1208.538442</td>\n",
       "      <td>291.465283</td>\n",
       "      <td>38.723909</td>\n",
       "    </tr>\n",
       "    <tr>\n",
       "      <th>min</th>\n",
       "      <td>1.000000</td>\n",
       "      <td>1.000000</td>\n",
       "      <td>-1.000000</td>\n",
       "    </tr>\n",
       "    <tr>\n",
       "      <th>25%</th>\n",
       "      <td>1047.250000</td>\n",
       "      <td>270.000000</td>\n",
       "      <td>3.310000</td>\n",
       "    </tr>\n",
       "    <tr>\n",
       "      <th>50%</th>\n",
       "      <td>2093.500000</td>\n",
       "      <td>522.000000</td>\n",
       "      <td>6.885000</td>\n",
       "    </tr>\n",
       "    <tr>\n",
       "      <th>75%</th>\n",
       "      <td>3139.750000</td>\n",
       "      <td>762.750000</td>\n",
       "      <td>11.690000</td>\n",
       "    </tr>\n",
       "    <tr>\n",
       "      <th>max</th>\n",
       "      <td>4186.000000</td>\n",
       "      <td>1000.000000</td>\n",
       "      <td>2033.000000</td>\n",
       "    </tr>\n",
       "  </tbody>\n",
       "</table>\n",
       "</div>"
      ],
      "text/plain": [
       "       TransactionID   CustomerID       Amount\n",
       "count    4186.000000  4186.000000  4186.000000\n",
       "mean     2093.500000   516.165791     9.028082\n",
       "std      1208.538442   291.465283    38.723909\n",
       "min         1.000000     1.000000    -1.000000\n",
       "25%      1047.250000   270.000000     3.310000\n",
       "50%      2093.500000   522.000000     6.885000\n",
       "75%      3139.750000   762.750000    11.690000\n",
       "max      4186.000000  1000.000000  2033.000000"
      ]
     },
     "execution_count": 303,
     "metadata": {},
     "output_type": "execute_result"
    }
   ],
   "source": [
    "%matplotlib inline\n",
    "# use boxplot to find any possible outliers\n",
    "plt.boxplot(data['Amount'])\n",
    "plt.show()\n",
    "data.describe()"
   ]
  },
  {
   "cell_type": "code",
   "execution_count": 304,
   "metadata": {},
   "outputs": [
    {
     "data": {
      "image/png": "[encoded data removed]",
      "text/plain": [
       "<matplotlib.figure.Figure at 0x10edf0240>"
      ]
     },
     "metadata": {},
     "output_type": "display_data"
    },
    {
     "data": {
      "text/html": [
       "<div>\n",
       "<style>\n",
       "    .dataframe thead tr:only-child th {\n",
       "        text-align: right;\n",
       "    }\n",
       "\n",
       "    .dataframe thead th {\n",
       "        text-align: left;\n",
       "    }\n",
       "\n",
       "    .dataframe tbody tr th {\n",
       "        vertical-align: top;\n",
       "    }\n",
       "</style>\n",
       "<table border=\"1\" class=\"dataframe\">\n",
       "  <thead>\n",
       "    <tr style=\"text-align: right;\">\n",
       "      <th></th>\n",
       "      <th>TransactionID</th>\n",
       "      <th>CustomerID</th>\n",
       "      <th>Amount</th>\n",
       "    </tr>\n",
       "  </thead>\n",
       "  <tbody>\n",
       "    <tr>\n",
       "      <th>count</th>\n",
       "      <td>4186.000000</td>\n",
       "      <td>4186.000000</td>\n",
       "      <td>4186.000000</td>\n",
       "    </tr>\n",
       "    <tr>\n",
       "      <th>mean</th>\n",
       "      <td>2093.500000</td>\n",
       "      <td>516.165791</td>\n",
       "      <td>8.068127</td>\n",
       "    </tr>\n",
       "    <tr>\n",
       "      <th>std</th>\n",
       "      <td>1208.538442</td>\n",
       "      <td>291.465283</td>\n",
       "      <td>6.008175</td>\n",
       "    </tr>\n",
       "    <tr>\n",
       "      <th>min</th>\n",
       "      <td>1.000000</td>\n",
       "      <td>1.000000</td>\n",
       "      <td>0.010000</td>\n",
       "    </tr>\n",
       "    <tr>\n",
       "      <th>25%</th>\n",
       "      <td>1047.250000</td>\n",
       "      <td>270.000000</td>\n",
       "      <td>3.310000</td>\n",
       "    </tr>\n",
       "    <tr>\n",
       "      <th>50%</th>\n",
       "      <td>2093.500000</td>\n",
       "      <td>522.000000</td>\n",
       "      <td>6.885000</td>\n",
       "    </tr>\n",
       "    <tr>\n",
       "      <th>75%</th>\n",
       "      <td>3139.750000</td>\n",
       "      <td>762.750000</td>\n",
       "      <td>11.682500</td>\n",
       "    </tr>\n",
       "    <tr>\n",
       "      <th>max</th>\n",
       "      <td>4186.000000</td>\n",
       "      <td>1000.000000</td>\n",
       "      <td>38.350000</td>\n",
       "    </tr>\n",
       "  </tbody>\n",
       "</table>\n",
       "</div>"
      ],
      "text/plain": [
       "       TransactionID   CustomerID       Amount\n",
       "count    4186.000000  4186.000000  4186.000000\n",
       "mean     2093.500000   516.165791     8.068127\n",
       "std      1208.538442   291.465283     6.008175\n",
       "min         1.000000     1.000000     0.010000\n",
       "25%      1047.250000   270.000000     3.310000\n",
       "50%      2093.500000   522.000000     6.885000\n",
       "75%      3139.750000   762.750000    11.682500\n",
       "max      4186.000000  1000.000000    38.350000"
      ]
     },
     "execution_count": 304,
     "metadata": {},
     "output_type": "execute_result"
    }
   ],
   "source": [
    "# deal with the abnormal values\n",
    "for i in range (0,len(data)) :\n",
    "    # divide by 100 if the value is over 750\n",
    "    if (data.loc[i,'Amount'] > 750):\n",
    "        data.loc[i,'Amount'] = data.loc[i,'Amount']/100\n",
    "    # replace with its absolute value if it is negative\n",
    "    if (data.loc[i,'Amount'] < 0):\n",
    "        data.loc[i,'Amount'] = -data.loc[i,'Amount']\n",
    "# show the result after cleaning\n",
    "plt.boxplot(data['Amount'])\n",
    "plt.show()  \n",
    "data.describe()"
   ]
  },
  {
   "cell_type": "markdown",
   "metadata": {},
   "source": [
    "### 1. Are there any outliers?\n",
    "Yes, there are some outliers. The mean of transaction amount is 9.03, with first quartile at 3.31 and third quartile 11.69. However, from the boxplot, we observe some values around 1000 and one value over 2000. These differ from the majority of the transaction values a lot and could be caused by bad entries (e.g. forgetting decimal separator). Also, there are some negative values which are not realistic in transactions. Those obnormal values are outliers.\n",
    "\n",
    "### 2. If so how would you treat them?\n",
    "Since values around 1000 or over 2000 could be caused by bad entries (e.g. forgetting decimal separator), I would choose to divide them by 100 so they can be brought back to the majority level. For amount values that are negative, I would choose to replace with their absolute values."
   ]
  },
  {
   "cell_type": "markdown",
   "metadata": {},
   "source": [
    "## Step 3: Determine origin year of customers"
   ]
  },
  {
   "cell_type": "code",
   "execution_count": 305,
   "metadata": {},
   "outputs": [
    {
     "name": "stdout",
     "output_type": "stream",
     "text": [
      "           TransactionDate  Year\n",
      "CustomerID                      \n",
      "1               2012-09-04  2012\n",
      "2               2012-05-15  2012\n",
      "3               2012-11-26  2012\n",
      "4               2015-07-07  2015\n",
      "5               2015-01-24  2015\n",
      "6               2013-02-07  2013\n",
      "7               2011-10-07  2011\n",
      "8               2012-01-23  2012\n",
      "9               2010-02-04  2010\n",
      "10              2010-09-17  2010\n",
      "11              2014-02-23  2014\n",
      "12              2011-07-26  2011\n",
      "13              2011-05-09  2011\n",
      "14              2012-01-21  2012\n",
      "15              2014-09-10  2014\n",
      "16              2015-01-22  2015\n",
      "17              2014-08-25  2014\n",
      "18              2012-04-28  2012\n",
      "19              2010-10-26  2010\n",
      "20              2015-05-27  2015\n",
      "21              2013-05-26  2013\n",
      "22              2010-04-05  2010\n",
      "23              2012-12-06  2012\n",
      "24              2012-02-10  2012\n",
      "25              2015-10-26  2015\n",
      "26              2014-09-27  2014\n",
      "27              2013-07-31  2013\n",
      "28              2012-02-22  2012\n",
      "29              2014-07-21  2014\n",
      "30              2011-07-27  2011\n",
      "...                    ...   ...\n",
      "971             2013-06-12  2013\n",
      "972             2010-05-18  2010\n",
      "973             2014-07-22  2014\n",
      "974             2013-10-31  2013\n",
      "975             2012-06-07  2012\n",
      "976             2011-04-06  2011\n",
      "977             2013-03-18  2013\n",
      "978             2011-05-24  2011\n",
      "979             2015-09-13  2015\n",
      "980             2010-02-22  2010\n",
      "981             2013-06-29  2013\n",
      "982             2011-02-03  2011\n",
      "983             2013-02-18  2013\n",
      "984             2010-07-10  2010\n",
      "985             2010-05-27  2010\n",
      "986             2013-09-04  2013\n",
      "987             2013-03-29  2013\n",
      "988             2010-11-12  2010\n",
      "989             2010-09-10  2010\n",
      "990             2010-11-29  2010\n",
      "991             2013-08-28  2013\n",
      "992             2011-05-17  2011\n",
      "993             2011-12-29  2011\n",
      "994             2012-06-02  2012\n",
      "995             2014-03-02  2014\n",
      "996             2012-06-27  2012\n",
      "997             2014-10-14  2014\n",
      "998             2010-09-29  2010\n",
      "999             2011-04-18  2011\n",
      "1000            2010-03-03  2010\n",
      "\n",
      "[1000 rows x 2 columns]\n"
     ]
    }
   ],
   "source": [
    "# first, group the data by cumtomer ID and find the earliest data that each customer made a purchase\n",
    "dataoriginal = data.copy()\n",
    "dataoriginalgrouped = dataoriginal['TransactionDate'].groupby(dataoriginal['CustomerID'])\n",
    "df3 = pd.DataFrame(dataoriginalgrouped.min())\n",
    "# second, extract year from the earliest purchase date for each customer\n",
    "df3['Year'] = None\n",
    "for i in range (0,len(df3)) :\n",
    "    df3.loc[i + 1,'Year'] = df3.loc[i + 1,'TransactionDate'].year\n",
    "print(df3)"
   ]
  },
  {
   "cell_type": "code",
   "execution_count": 306,
   "metadata": {},
   "outputs": [
    {
     "name": "stdout",
     "output_type": "stream",
     "text": [
      "      TransactionID TransactionDate  CustomerID  Amount Original Year\n",
      "0                 1      2012-09-04           1   20.26          2012\n",
      "1                 2      2012-05-15           2   10.87          2012\n",
      "2                 3      2014-05-23           2    2.21          2012\n",
      "3                 4      2014-10-24           2   10.48          2012\n",
      "4                 5      2012-10-13           2    3.94          2012\n",
      "5                 6      2013-01-23           2   12.37          2012\n",
      "6                 7      2014-03-09           2    1.59          2012\n",
      "7                 8      2013-11-17           2    2.75          2012\n",
      "8                 9      2014-10-10           2    3.51          2012\n",
      "9                10      2012-11-26           3   21.58          2012\n",
      "10               11      2013-03-14           3   15.43          2012\n",
      "11               12      2014-03-10           3    5.45          2012\n",
      "12               13      2015-04-28           3    1.67          2012\n",
      "13               14      2014-10-08           3    2.23          2012\n",
      "14               15      2013-03-20           3    9.92          2012\n",
      "15               16      2015-08-10           3    6.16          2012\n",
      "16               17      2015-07-07           4    0.54          2015\n",
      "17               18      2015-01-24           5   14.54          2015\n",
      "18               19      2015-04-11           5    6.90          2015\n",
      "19               20      2013-02-07           6    2.56          2013\n",
      "20               21      2012-08-16           7   17.02          2011\n",
      "21               22      2013-02-01           7    8.18          2011\n",
      "22               23      2012-10-05           7    9.44          2011\n",
      "23               24      2011-10-07           7   10.03          2011\n",
      "24               25      2012-01-23           8    6.21          2012\n",
      "25               26      2013-10-18           8    2.35          2012\n",
      "26               27      2015-12-14           8    0.52          2012\n",
      "27               28      2014-06-09           8    6.58          2012\n",
      "28               29      2010-02-04           9    0.74          2010\n",
      "29               30      2014-05-23           9   11.87          2010\n",
      "...             ...             ...         ...     ...           ...\n",
      "4156           4157      2013-04-20         998   10.98          2010\n",
      "4157           4158      2012-04-09         998   15.83          2010\n",
      "4158           4159      2012-05-19         998    7.78          2010\n",
      "4159           4160      2012-04-06         998    5.46          2010\n",
      "4160           4161      2015-12-22         998    7.10          2010\n",
      "4161           4162      2012-03-06         998   17.80          2010\n",
      "4162           4163      2012-11-06         998   12.61          2010\n",
      "4163           4164      2011-04-18         999    1.25          2011\n",
      "4164           4165      2015-03-08         999   13.61          2011\n",
      "4165           4166      2011-06-17         999    0.80          2011\n",
      "4166           4167      2010-03-03        1000    5.39          2010\n",
      "4167           4168      2014-04-18        1000   15.19          2010\n",
      "4168           4169      2010-10-11        1000    4.97          2010\n",
      "4169           4170      2010-10-28        1000   14.39          2010\n",
      "4170           4171      2012-12-24        1000   10.85          2010\n",
      "4171           4172      2013-01-29        1000    5.54          2010\n",
      "4172           4173      2015-01-02        1000    3.06          2010\n",
      "4173           4174      2012-10-28        1000   11.06          2010\n",
      "4174           4175      2015-08-30        1000    3.58          2010\n",
      "4175           4176      2013-02-05        1000    0.83          2010\n",
      "4176           4177      2012-05-15        1000   14.10          2010\n",
      "4177           4178      2012-08-13        1000   20.33          2010\n",
      "4178           4179      2013-07-24        1000   10.57          2010\n",
      "4179           4180      2011-04-15        1000    4.42          2010\n",
      "4180           4181      2012-09-18        1000    9.69          2010\n",
      "4181           4182      2013-06-23        1000    3.86          2010\n",
      "4182           4183      2011-08-07        1000    4.00          2010\n",
      "4183           4184      2012-10-07        1000   18.37          2010\n",
      "4184           4185      2014-01-09        1000    3.45          2010\n",
      "4185           4186      2011-04-30        1000    5.18          2010\n",
      "\n",
      "[4186 rows x 5 columns]\n"
     ]
    }
   ],
   "source": [
    "# third, create a column called original year, and copy original year information from df3 to it\n",
    "dataoriginal['Original Year'] = None\n",
    "for i in range (0,len(dataoriginal)):\n",
    "    dataoriginal.loc[i,'Original Year'] = df3.loc[dataoriginal.loc[i,'CustomerID'],'Year']\n",
    "print(dataoriginal)"
   ]
  },
  {
   "cell_type": "markdown",
   "metadata": {},
   "source": [
    "## Step 4: Calculate cumulative transaction amounts"
   ]
  },
  {
   "cell_type": "code",
   "execution_count": 307,
   "metadata": {},
   "outputs": [
    {
     "name": "stdout",
     "output_type": "stream",
     "text": [
      "                              12       24       36       48       60       72\n",
      "Origin                                                                       \n",
      "2010-01-01 - 2010-12-31  2259.67  3614.78  5295.14  6652.70  7951.02  8984.82\n",
      "2011-01-01 - 2011-12-31  2248.49  3795.39  5511.66  6748.78  7907.91     0.00\n",
      "2012-01-01 - 2012-12-31  2154.89  3840.05  5192.22  6467.21     0.00     0.00\n",
      "2013-01-01 - 2013-12-31  2179.85  3610.81  5228.75     0.00     0.00     0.00\n",
      "2014-01-01 - 2014-12-31  1841.12  3272.32     0.00     0.00     0.00     0.00\n",
      "2015-01-01 - 2015-12-31  1912.17     0.00     0.00     0.00     0.00     0.00\n"
     ]
    }
   ],
   "source": [
    "# create a dataframe to store the cumulative transaction amounts\n",
    "cumamounts = [['Origin', '12', '24', '36', '48', '60', '72'],\n",
    "              ['2010-01-01 - 2010-12-31', 0, 0, 0, 0, 0, 0],\n",
    "              ['2011-01-01 - 2011-12-31', 0, 0, 0, 0, 0, 0],\n",
    "              ['2012-01-01 - 2012-12-31', 0, 0, 0, 0, 0, 0],\n",
    "              ['2013-01-01 - 2013-12-31', 0, 0, 0, 0, 0, 0],\n",
    "              ['2014-01-01 - 2014-12-31', 0, 0, 0, 0, 0, 0],\n",
    "              ['2015-01-01 - 2015-12-31', 0, 0, 0, 0, 0, 0]\n",
    "             ]\n",
    "cumamounts = pd.DataFrame(cumamounts[1:], columns=cumamounts[0])\n",
    "cumamounts.set_index('Origin',inplace = True)\n",
    "# iterate over the whole dataset, add amount to the cohert and 12-month period it belongs to (not cumulative at this point)\n",
    "for i in range (0,len(dataoriginal)):\n",
    "    amount = dataoriginal.loc[i,'Amount']\n",
    "    if (int(dataoriginal.loc[i,'Original Year']) == 2010) :\n",
    "        if (int(dataoriginal.loc[i,'TransactionDate'].year)==2010):\n",
    "            cumamounts.iloc[0,0] += amount\n",
    "        if (int(dataoriginal.loc[i,'TransactionDate'].year)==2011):\n",
    "            cumamounts.iloc[0,1] += amount\n",
    "        if (int(dataoriginal.loc[i,'TransactionDate'].year)==2012):\n",
    "            cumamounts.iloc[0,2] += amount\n",
    "        if (int(dataoriginal.loc[i,'TransactionDate'].year)==2013):\n",
    "            cumamounts.iloc[0,3] += amount\n",
    "        if (int(dataoriginal.loc[i,'TransactionDate'].year)==2014):\n",
    "            cumamounts.iloc[0,4] += amount\n",
    "        if (int(dataoriginal.loc[i,'TransactionDate'].year)==2015):\n",
    "            cumamounts.iloc[0,5] += amount\n",
    "    if (int(dataoriginal.loc[i,'Original Year']) == 2011) :\n",
    "        if (int(dataoriginal.loc[i,'TransactionDate'].year)==2011):\n",
    "            cumamounts.iloc[1,0] += amount\n",
    "        if (int(dataoriginal.loc[i,'TransactionDate'].year)==2012):\n",
    "            cumamounts.iloc[1,1] += amount\n",
    "        if (int(dataoriginal.loc[i,'TransactionDate'].year)==2013):\n",
    "            cumamounts.iloc[1,2] += amount\n",
    "        if (int(dataoriginal.loc[i,'TransactionDate'].year)==2014):\n",
    "            cumamounts.iloc[1,3] += amount\n",
    "        if (int(dataoriginal.loc[i,'TransactionDate'].year)==2015):\n",
    "            cumamounts.iloc[1,4] += amount\n",
    "    if (int(dataoriginal.loc[i,'Original Year']) == 2012) :\n",
    "        if (int(dataoriginal.loc[i,'TransactionDate'].year)==2012):\n",
    "            cumamounts.iloc[2,0] += amount\n",
    "        if (int(dataoriginal.loc[i,'TransactionDate'].year)==2013):\n",
    "            cumamounts.iloc[2,1] += amount\n",
    "        if (int(dataoriginal.loc[i,'TransactionDate'].year)==2014):\n",
    "            cumamounts.iloc[2,2] += amount\n",
    "        if (int(dataoriginal.loc[i,'TransactionDate'].year)==2015):\n",
    "            cumamounts.iloc[2,3] += amount\n",
    "    if (int(dataoriginal.loc[i,'Original Year']) == 2013) :\n",
    "        if (int(dataoriginal.loc[i,'TransactionDate'].year)==2013):\n",
    "            cumamounts.iloc[3,0] += amount\n",
    "        if (int(dataoriginal.loc[i,'TransactionDate'].year)==2014):\n",
    "            cumamounts.iloc[3,1] += amount\n",
    "        if (int(dataoriginal.loc[i,'TransactionDate'].year)==2015):\n",
    "            cumamounts.iloc[3,2] += amount\n",
    "    if (int(dataoriginal.loc[i,'Original Year']) == 2014) :\n",
    "        if (int(dataoriginal.loc[i,'TransactionDate'].year)==2014):\n",
    "            cumamounts.iloc[4,0] += amount\n",
    "        if (int(dataoriginal.loc[i,'TransactionDate'].year)==2015):\n",
    "            cumamounts.iloc[4,1] += amount\n",
    "    if (int(dataoriginal.loc[i,'Original Year']) == 2015) :\n",
    "        if (int(dataoriginal.loc[i,'TransactionDate'].year)==2015):\n",
    "            cumamounts.iloc[5,0] += amount\n",
    "# make the amounts cumulative by adding its previous number\n",
    "for i in range (0, 5):\n",
    "    for j in range (1, 6 - i):\n",
    "        cumamounts.iloc[i, j] += cumamounts.iloc[i,j - 1]\n",
    "print(cumamounts)"
   ]
  },
  {
   "cell_type": "markdown",
   "metadata": {},
   "source": [
    "## Step 5: Calculate cumulative transaction amounts"
   ]
  },
  {
   "cell_type": "code",
   "execution_count": 308,
   "metadata": {},
   "outputs": [
    {
     "name": "stdout",
     "output_type": "stream",
     "text": [
      "                          12   24   36   48   60   72\n",
      "Origin                                               \n",
      "2010-01-01 - 2010-12-31  172  172  172  172  172  172\n",
      "2011-01-01 - 2011-12-31  171  171  171  171  171    0\n",
      "2012-01-01 - 2012-12-31  162  162  162  162    0    0\n",
      "2013-01-01 - 2013-12-31  180  180  180    0    0    0\n",
      "2014-01-01 - 2014-12-31  155  155    0    0    0    0\n",
      "2015-01-01 - 2015-12-31  160    0    0    0    0    0\n"
     ]
    }
   ],
   "source": [
    "# create a dataframe to store the number of customers\n",
    "customers = [['Origin', '12', '24', '36', '48', '60', '72'],\n",
    "              ['2010-01-01 - 2010-12-31', 0, 0, 0, 0, 0, 0],\n",
    "              ['2011-01-01 - 2011-12-31', 0, 0, 0, 0, 0, 0],\n",
    "              ['2012-01-01 - 2012-12-31', 0, 0, 0, 0, 0, 0],\n",
    "              ['2013-01-01 - 2013-12-31', 0, 0, 0, 0, 0, 0],\n",
    "              ['2014-01-01 - 2014-12-31', 0, 0, 0, 0, 0, 0],\n",
    "              ['2015-01-01 - 2015-12-31', 0, 0, 0, 0, 0, 0]\n",
    "             ]\n",
    "customers = pd.DataFrame(customers[1:], columns=customers[0])\n",
    "customers.set_index('Origin',inplace = True)\n",
    "# count the number of customer for each original year using df3\n",
    "for i in range (0,len(df3)):\n",
    "    year = int(df3.loc[i + 1,'Year'])\n",
    "    if (year == 2010) : customers.iloc[0,0] += 1\n",
    "    if (year == 2011) : customers.iloc[1,0] += 1\n",
    "    if (year == 2012) : customers.iloc[2,0] += 1\n",
    "    if (year == 2013) : customers.iloc[3,0] += 1\n",
    "    if (year == 2014) : customers.iloc[4,0] += 1\n",
    "    if (year == 2015) : customers.iloc[5,0] += 1\n",
    "# fill the values in the following period for each original year\n",
    "for i in range (0, 5):\n",
    "    for j in range (1, 6 - i):\n",
    "        customers.iloc[i, j] = customers.iloc[i,j - 1]\n",
    "print(customers)"
   ]
  },
  {
   "cell_type": "markdown",
   "metadata": {},
   "source": [
    "## Step 6: Historic CLV"
   ]
  },
  {
   "cell_type": "code",
   "execution_count": 309,
   "metadata": {},
   "outputs": [
    {
     "name": "stdout",
     "output_type": "stream",
     "text": [
      "                            12     24     36     48     60     72\n",
      "Origin                                                           \n",
      "2010-01-01 - 2010-12-31  13.14  21.02  30.79  38.68  46.23  52.24\n",
      "2011-01-01 - 2011-12-31  13.15  22.20  32.23  39.47  46.25   0.00\n",
      "2012-01-01 - 2012-12-31  13.30  23.70  32.05  39.92   0.00   0.00\n",
      "2013-01-01 - 2013-12-31  12.11  20.06  29.05   0.00   0.00   0.00\n",
      "2014-01-01 - 2014-12-31  11.88  21.11   0.00   0.00   0.00   0.00\n",
      "2015-01-01 - 2015-12-31  11.95   0.00   0.00   0.00   0.00   0.00\n"
     ]
    }
   ],
   "source": [
    "# create a dataframe to store the information of historical CLV\n",
    "hisclv = [['Origin', '12', '24', '36', '48', '60', '72'],\n",
    "              ['2010-01-01 - 2010-12-31', 0, 0, 0, 0, 0, 0],\n",
    "              ['2011-01-01 - 2011-12-31', 0, 0, 0, 0, 0, 0],\n",
    "              ['2012-01-01 - 2012-12-31', 0, 0, 0, 0, 0, 0],\n",
    "              ['2013-01-01 - 2013-12-31', 0, 0, 0, 0, 0, 0],\n",
    "              ['2014-01-01 - 2014-12-31', 0, 0, 0, 0, 0, 0],\n",
    "              ['2015-01-01 - 2015-12-31', 0, 0, 0, 0, 0, 0]\n",
    "             ]\n",
    "hisclv = pd.DataFrame(hisclv[1:], columns=hisclv[0])\n",
    "hisclv.set_index('Origin',inplace = True)\n",
    "# divide cumamounts by number of customers to get historic CLV values\n",
    "for i in range (0, 6):\n",
    "    for j in range (0, 6 - i):\n",
    "        hisclv.iloc[i,j] = round(cumamounts.iloc[i,j]/customers.iloc[i,j],2)\n",
    "print(hisclv)"
   ]
  },
  {
   "cell_type": "code",
   "execution_count": 310,
   "metadata": {},
   "outputs": [
    {
     "data": {
      "image/png": "[encoded data removed]",
      "text/plain": [
       "<matplotlib.figure.Figure at 0x10df390b8>"
      ]
     },
     "metadata": {},
     "output_type": "display_data"
    }
   ],
   "source": [
    "%matplotlib inline\n",
    "import matplotlib.patches as mpatches\n",
    "# Define plot elements\n",
    "fig, ax = plt.subplots()\n",
    "ax.grid()\n",
    "ax.set_xticklabels([0,'12','24','36','48','60','72'])\n",
    "plt.xlabel(\"Age\")\n",
    "plt.ylabel(\"Historic CLV\")\n",
    "plt.title(\"Historic CLV\")\n",
    "# plot six line charts\n",
    "first = np.array(hisclv.iloc[0,0:6])\n",
    "second = np.array(hisclv.iloc[1,0:5])\n",
    "third = np.array(hisclv.iloc[2,0:4])\n",
    "fourth = np.array(hisclv.iloc[3,0:3])\n",
    "fifth = np.array(hisclv.iloc[4,0:2])\n",
    "sixth = np.array(hisclv.iloc[5,0:1])\n",
    "plt.plot(first,'r-o',color=\"red\")\n",
    "plt.plot(second,'r-o',color=\"green\")\n",
    "plt.plot(third,'r-o',color=\"blue\")\n",
    "plt.plot(fourth,'r-o',color=\"black\")\n",
    "plt.plot(fifth,'r-o',color=\"yellow\")\n",
    "plt.plot(sixth,'r-o',color=\"orange\")\n",
    "# Add legend\n",
    "first_patch = mpatches.Patch(color=\"red\",label=\"Origin year 2010\")\n",
    "second_patch = mpatches.Patch(color=\"green\",label=\"Origin year 2011\")\n",
    "third_patch = mpatches.Patch(color=\"blue\",label=\"Origin year 2012\")\n",
    "fourth_patch = mpatches.Patch(color=\"black\",label=\"Origin year 2013\")\n",
    "fifth_patch = mpatches.Patch(color=\"yellow\",label=\"Origin year 2014\")\n",
    "sixth_patch = mpatches.Patch(color=\"orange\",label=\"Origin year 2015\")\n",
    "plt.legend(handles=[first_patch,second_patch,third_patch,fourth_patch,fifth_patch,sixth_patch])\n",
    "plt.show()"
   ]
  },
  {
   "cell_type": "code",
   "execution_count": 311,
   "metadata": {
    "scrolled": true
   },
   "outputs": [
    {
     "name": "stdout",
     "output_type": "stream",
     "text": [
      "     HistoricCLV\n",
      "Age             \n",
      "12     12.596530\n",
      "24     21.587964\n",
      "36     30.990234\n",
      "48     39.345287\n",
      "60     46.239971\n",
      "72     52.240000\n"
     ]
    }
   ],
   "source": [
    "# create a dataframe to store the number of customers\n",
    "weighted = [['Age', 'HistoricCLV'],\n",
    "              ['12', 0],\n",
    "              ['24', 0],\n",
    "              ['36', 0],\n",
    "              ['48', 0],\n",
    "              ['60', 0],\n",
    "              ['72', 0]\n",
    "             ]\n",
    "weighted = pd.DataFrame(weighted[1:], columns=weighted[0])\n",
    "weighted.set_index('Age',inplace = True)\n",
    "# take a volume-weighted average of the Historic CLV for each group at each Age, \n",
    "# weighted by the number of customers in each group.\n",
    "for i in range (0, 6):\n",
    "    for j in range (0, 6-i):\n",
    "        weighted.iloc[i, 0] += hisclv.iloc[j,i]*customers.iloc[j,i]/sum(customers.iloc[:,i])\n",
    "print(weighted)"
   ]
  },
  {
   "cell_type": "code",
   "execution_count": 312,
   "metadata": {},
   "outputs": [
    {
     "data": {
      "image/png": "[encoded data removed]",
      "text/plain": [
       "<matplotlib.figure.Figure at 0x10f102ef0>"
      ]
     },
     "metadata": {},
     "output_type": "display_data"
    }
   ],
   "source": [
    "# plot weighted historic clv\n",
    "fig, ax = plt.subplots()\n",
    "ax.grid()\n",
    "plt.xlabel(\"Age\")\n",
    "plt.ylabel(\"Weighted Historic CLV\")\n",
    "plt.title(\"Weighted Historic CLV\")\n",
    "plt.plot(weighted,'r-o',color=\"pink\")\n",
    "plt.show()"
   ]
  },
  {
   "cell_type": "markdown",
   "metadata": {},
   "source": [
    "## Step 7: Interpreting your results"
   ]
  },
  {
   "cell_type": "markdown",
   "metadata": {},
   "source": [
    "### 0. Interpret the historic CLV\n",
    "Historical CLV computes a customer‘s lifetime value based on what they have previously spent with the business. It is a good indicator of how valuable customers are to businesses. From the above graphs, we can see that historic CLV becomes more and more valuable as more purchases are made and engagement grows between the customer and the business.\n",
    "\n",
    "### 1. How much have customers acquired in 2011 spent to date?\n",
    "Customers acquired in 2011 have spent 7907.91 dollars to date.\n",
    "\n",
    "### 2. Do each group of customers exhibit similar or different patterns of spending? What’s the implication for the business?\n",
    "Each group of customers exhibit similar patterns of spending. This indicates that customers gained during year 2010 to 2015 are well retained, and the values of those customers are growing at a steady rate. In the future, the business should value both old and relatively new customers, keep developing marketing strategies and focus on building long-term relationships with customers in order to improve customer lifetime value."
   ]
  },
  {
   "cell_type": "markdown",
   "metadata": {},
   "source": [
    "## Reference:\n",
    "1. Customer Lifetime Value\n",
    "https://university.custora.com/for-marketers/clv/intermediate\n",
    "2. Practical Guide to Calculating Customer Lifetime Value (CLV)\n",
    "https://gormanalysis.com/practical-guide-to-calculating-customer-lifetime-value-clv/\n",
    "3. How To Calculate Customer Lifetime Value\n",
    "https://perq.com/calculate-customer-lifetime-value/"
   ]
  }
 ],
 "metadata": {
  "kernelspec": {
   "display_name": "Python 3",
   "language": "python",
   "name": "python3"
  },
  "language_info": {
   "codemirror_mode": {
    "name": "ipython",
    "version": 3
   },
   "file_extension": ".py",
   "mimetype": "text/x-python",
   "name": "python",
   "nbconvert_exporter": "python",
   "pygments_lexer": "ipython3",
   "version": "3.6.3"
  }
 },
 "nbformat": 4,
 "nbformat_minor": 2
}
