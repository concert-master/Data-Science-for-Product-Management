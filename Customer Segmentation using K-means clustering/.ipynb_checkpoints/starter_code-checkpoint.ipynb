{
 "cells": [
  {
   "cell_type": "code",
   "execution_count": null,
   "metadata": {
    "collapsed": true
   },
   "outputs": [],
   "source": [
    "#You can use pandas to preprocess the dataset and sklearn package to perform the KMeans Clustering Analysis\n",
    "import pandas as pd\n",
    "from sklearn.cluster import KMeans"
   ]
  },
  {
   "cell_type": "code",
   "execution_count": null,
   "metadata": {
    "collapsed": true
   },
   "outputs": [],
   "source": [
    "#Loading all data into individual data frames\n",
    "customers = pd.read_excel(\"bikeshops.xlsx\",sheetIndex=1)\n",
    "\n",
    "#Now, load orders and products as well"
   ]
  },
  {
   "cell_type": "code",
   "execution_count": null,
   "metadata": {
    "collapsed": true
   },
   "outputs": [],
   "source": [
    "#Combining above data into a single dataframe\n",
    "ordersXcustomers = pd.merge(orders,customers,left_on = \"customer.id\",right_on = \"bikeshop.id\")\n",
    "\n",
    "#Now, merge ordersXcustomers and products"
   ]
  },
  {
   "cell_type": "code",
   "execution_count": null,
   "metadata": {
    "collapsed": true
   },
   "outputs": [],
   "source": [
    "#Calculate total value of each order: (quantity*price)\n",
    "\n",
    "#Sort the resultant by order.id and order.line\n",
    "\n",
    "#Drop columns unnecessary for clustering: we don't need these columns: \n",
    "#'customer.id','product.id','bikeshop.id','bikeshop.city','bikeshop.state','latitude','longitude','bike.id','index'"
   ]
  },
  {
   "cell_type": "code",
   "execution_count": null,
   "metadata": {
    "collapsed": true
   },
   "outputs": [],
   "source": [
    "#Create a pivot table to analyze customer trends\n",
    "\n",
    "#First, use the groupby and aggregate function in pandas. For instance, you can do\n",
    "customerTrends = some_data_frame.groupby(['column_name']).agg({'column_name':'sum'})\n",
    "#Think about what columns do you need to do the groupby and which aggregation function should you use?\n",
    "\n",
    "#Then, you can create the pivot table using the built-in function in pandas\n",
    "some_data_frame.pivot_table()\n"
   ]
  },
  {
   "cell_type": "code",
   "execution_count": null,
   "metadata": {
    "collapsed": true
   },
   "outputs": [],
   "source": [
    "#Next: Normalizing columns. (Hint: you can divide each value in the column by the sum of column)\n",
    "\n",
    "\n",
    "#Converting indicies to columns\n",
    "customerTrends.reset_index(level = customerTrends.index.names,inplace = True)\n"
   ]
  },
  {
   "cell_type": "code",
   "execution_count": null,
   "metadata": {
    "collapsed": true
   },
   "outputs": [],
   "source": [
    "#Categorizing prices column into 2 bins: High and Low"
   ]
  },
  {
   "cell_type": "code",
   "execution_count": null,
   "metadata": {
    "collapsed": true
   },
   "outputs": [],
   "source": [
    "#Now, we are ready to perform the Kmeans analysis\n",
    "number_of_clusters = 5\n",
    "\n",
    "#Select appropriate columns in the dataset to perform the Kmeans attribute. Save these columns into a new data frame kmeansDat. \n",
    "#You will use this new dataframe to perform the Kmeans analysis\n",
    "\n",
    "kmeans = KMeans(n_clusters=number_of_clusters) #Setup a KMeans model\n",
    "model = kmeans.fit(X= kmeansDat) #Fit a model using selected data (kmeansDat). \n",
    "\n",
    "#You can see the lables by calling\n",
    "labels = model.labels_"
   ]
  },
  {
   "cell_type": "code",
   "execution_count": null,
   "metadata": {
    "collapsed": true
   },
   "outputs": [],
   "source": [
    "#Now we get the clustering results, let's go through each cluster and analyze clustering results\n",
    "clusters = {}\n",
    "\n",
    "for index,label in enumerate(labels):\n",
    "    #Figure out what customers are there in each cluster\n",
    "\n",
    "#Sort the dictionary\n",
    "sorted_clusters = sorted(clusters.items(),key = lambda x : x[0])\n",
    "\n",
    "\n",
    "print(\"Following clusters were found\\n\")\n",
    "for tup in sorted_clusters:\n",
    "    #Print out your results and do some analysis"
   ]
  },
  {
   "cell_type": "code",
   "execution_count": null,
   "metadata": {
    "collapsed": true
   },
   "outputs": [],
   "source": [
    "#Map clusters to the bike models\n",
    "centers = model.cluster_centers_.transpose()"
   ]
  },
  {
   "cell_type": "code",
   "execution_count": null,
   "metadata": {
    "collapsed": true
   },
   "outputs": [],
   "source": [
    "cluster_number =[]\n",
    "cluster_dist = []\n",
    "for c in centers:\n",
    "    bestc = max(c)  #gets the best cluster centroid\n",
    "    cluster_number.append(list(c).index(bestc))\n",
    "    cluster_dist.append(bestc)\n",
    "\n",
    "\n",
    "for i in range(0,number_of_clusters):\n",
    "    #Print your results and other necessary information"
   ]
  }
 ],
 "metadata": {
  "kernelspec": {
   "display_name": "Python 2",
   "language": "python",
   "name": "python2"
  },
  "language_info": {
   "codemirror_mode": {
    "name": "ipython",
    "version": 2
   },
   "file_extension": ".py",
   "mimetype": "text/x-python",
   "name": "python",
   "nbconvert_exporter": "python",
   "pygments_lexer": "ipython2",
   "version": "2.7.13"
  }
 },
 "nbformat": 4,
 "nbformat_minor": 2
}
